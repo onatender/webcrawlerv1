{
 "cells": [
  {
   "cell_type": "code",
   "execution_count": 1,
   "id": "cac2c194-fd50-4c90-a0b5-93807cbebd0d",
   "metadata": {},
   "outputs": [],
   "source": [
    "from bs4 import BeautifulSoup\n",
    "import requests"
   ]
  },
  {
   "cell_type": "code",
   "execution_count": 56,
   "id": "d5bf5b02-dfca-4571-8284-adc3dc3ed5cd",
   "metadata": {},
   "outputs": [],
   "source": [
    "def format_link(parent,link):\n",
    "    link = str(link)\n",
    "    if 'www.' in link:\n",
    "        while not link.startswith('www.'):\n",
    "            link = link[1:]\n",
    "        link = \"https://\"+link\n",
    "    if 'http://' in link:\n",
    "        while not link.startswith('http://'):\n",
    "            link = link[1:]\n",
    "    if 'https://' in link:\n",
    "        while not link.startswith('https://'):\n",
    "            link = link[1:]\n",
    "    if '?' in link:\n",
    "        link = link.split('?')[0]\n",
    "    if '#' in link:\n",
    "        link = link.split('#')[0]\n",
    "    if link.startswith('/'):\n",
    "        if parent.endswith('/'):\n",
    "            link = parent+link[1:]\n",
    "        else:\n",
    "            link = parent+link\n",
    "    if link.startswith('../'):\n",
    "        if parent.endswith('/'):\n",
    "            parent = parent[:len(parent)-1]\n",
    "            while not parent.endswith('/'):\n",
    "                parent = parent[:len(parent)-1]\n",
    "                link = parent+link[3]\n",
    "    if link.endswith('/'):\n",
    "        link = link.rstrip('/')\n",
    "    return link"
   ]
  },
  {
   "cell_type": "code",
   "execution_count": 46,
   "id": "90463049-e432-43fa-bd35-c031a04ad0a1",
   "metadata": {},
   "outputs": [],
   "source": [
    "def get_links(link):\n",
    "    print(link+\" adresinden linkler çekiliyor...\")\n",
    "    links_in_page = []\n",
    "    response = requests.get(link)\n",
    "    html_content = response.text\n",
    "    soup = BeautifulSoup(html_content, \"html.parser\")\n",
    "    a_tags = soup.find_all(\"a\")\n",
    "    for a_tag in a_tags:\n",
    "        href = a_tag.get(\"href\")\n",
    "        if isNullOrWhiteSpace(str(href)):\n",
    "            continue\n",
    "        links_in_page.append(format_link(link,href))\n",
    "    return set(links_in_page)"
   ]
  },
  {
   "cell_type": "code",
   "execution_count": 45,
   "id": "4d982797-dbe4-47a6-a518-351f1cea1f11",
   "metadata": {},
   "outputs": [],
   "source": [
    "def isNullOrWhiteSpace(s):\n",
    "    return s is None or s.strip() == ''"
   ]
  },
  {
   "cell_type": "code",
   "execution_count": 20,
   "id": "29760daf-7c34-420b-8aef-e6ac575d621a",
   "metadata": {},
   "outputs": [],
   "source": [
    "google_url = \"https://www.google.com\""
   ]
  },
  {
   "cell_type": "code",
   "execution_count": 39,
   "id": "a49dc807-e2ec-45e0-930b-3621ce0a98d7",
   "metadata": {},
   "outputs": [
    {
     "name": "stdout",
     "output_type": "stream",
     "text": [
      "https://www.google.com adresinden linkler çekiliyor...\n"
     ]
    },
    {
     "data": {
      "text/plain": [
       "{'http://www.google.com.tr/history/optout',\n",
       " 'http://www.google.com.tr/intl/tr/services/',\n",
       " 'https://accounts.google.com/ServiceLogin',\n",
       " 'https://drive.google.com/',\n",
       " 'https://mail.google.com/mail/',\n",
       " 'https://maps.google.com.tr/maps',\n",
       " 'https://news.google.com/',\n",
       " 'https://play.google.com/',\n",
       " 'https://www.google.com.tr/intl/tr/about/products',\n",
       " 'https://www.google.com/advanced_search',\n",
       " 'https://www.google.com/imghp',\n",
       " 'https://www.google.com/intl/tr/about.html',\n",
       " 'https://www.google.com/intl/tr/ads/',\n",
       " 'https://www.google.com/intl/tr/policies/privacy/',\n",
       " 'https://www.google.com/intl/tr/policies/terms/',\n",
       " 'https://www.google.com/preferences',\n",
       " 'https://www.google.com/setprefdomain',\n",
       " 'https://www.youtube.com/'}"
      ]
     },
     "execution_count": 39,
     "metadata": {},
     "output_type": "execute_result"
    }
   ],
   "source": [
    "get_links(google_url)"
   ]
  },
  {
   "cell_type": "code",
   "execution_count": 49,
   "id": "794e507e-2535-4d58-b72e-4cd07c9904d8",
   "metadata": {},
   "outputs": [],
   "source": [
    "all_links_found = []"
   ]
  },
  {
   "cell_type": "code",
   "execution_count": 59,
   "id": "6d83a869-d54e-4c10-923d-fe5944a7e8f5",
   "metadata": {},
   "outputs": [],
   "source": [
    "def recursive_get(start_link):\n",
    "    get = get_links(start_link)\n",
    "    for link in get:\n",
    "        if link not in all_links_found:\n",
    "            print(link)\n",
    "    for link in get:\n",
    "        if link not in all_links_found:\n",
    "            all_links_found.append(link)\n",
    "            if not isNullOrWhiteSpace(link) and link.startswith('https://'):\n",
    "                recursive_get(link)"
   ]
  },
  {
   "cell_type": "code",
   "execution_count": null,
   "id": "1b6b0b9b-8425-4d3d-98de-8906f1f674e2",
   "metadata": {
    "scrolled": true
   },
   "outputs": [],
   "source": [
    "recursive_get(\"https://www.google.com\")"
   ]
  }
 ],
 "metadata": {
  "kernelspec": {
   "display_name": "Python 3 (ipykernel)",
   "language": "python",
   "name": "python3"
  },
  "language_info": {
   "codemirror_mode": {
    "name": "ipython",
    "version": 3
   },
   "file_extension": ".py",
   "mimetype": "text/x-python",
   "name": "python",
   "nbconvert_exporter": "python",
   "pygments_lexer": "ipython3",
   "version": "3.11.3"
  }
 },
 "nbformat": 4,
 "nbformat_minor": 5
}
